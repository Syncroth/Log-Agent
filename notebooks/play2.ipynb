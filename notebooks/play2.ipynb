{
 "cells": [
  {
   "cell_type": "code",
   "execution_count": 33,
   "metadata": {},
   "outputs": [],
   "source": [
    "from langchain_community.document_loaders import TextLoader\n",
    "from langchain_openai import OpenAIEmbeddings\n",
    "from langchain_text_splitters import CharacterTextSplitter\n",
    "from langchain_chroma import Chroma\n",
    "from langchain_community.document_loaders import JSONLoader\n",
    "from IPython.display import display, Markdown"
   ]
  },
  {
   "cell_type": "code",
   "execution_count": 22,
   "metadata": {},
   "outputs": [],
   "source": [
    "from langgraph.graph import StateGraph, END\n",
    "from typing import TypedDict, Annotated\n",
    "import operator\n",
    "from langchain_core.messages import AnyMessage, SystemMessage, HumanMessage, ToolMessage\n",
    "from langchain_community.tools.tavily_search import TavilySearchResults\n",
    "from langchain.prompts import PromptTemplate"
   ]
  },
  {
   "cell_type": "code",
   "execution_count": 20,
   "metadata": {},
   "outputs": [],
   "source": [
    "from dotenv import load_dotenv\n",
    "import os\n",
    "from langchain_google_genai import ChatGoogleGenerativeAI\n",
    "from langchain_google_genai import GoogleGenerativeAIEmbeddings\n",
    "from langchain.tools.retriever import create_retriever_tool\n",
    "from langgraph.checkpoint.sqlite import SqliteSaver\n"
   ]
  },
  {
   "cell_type": "code",
   "execution_count": 3,
   "metadata": {},
   "outputs": [],
   "source": [
    "_ = load_dotenv()\n",
    "google_api_key = os.getenv(\"GOOGLE_API_KEY\")\n",
    "tavily_api_key = os.getenv(\"TAVILY_API_KEY\")\n",
    "openai_api_key = os.getenv(\"OPENAI_API_KEY\")"
   ]
  },
  {
   "cell_type": "code",
   "execution_count": 4,
   "metadata": {},
   "outputs": [],
   "source": [
    "model=ChatGoogleGenerativeAI(model=\"gemini-1.5-flash\", google_api_key=google_api_key, verbose=True)\n",
    "google_embeddings = GoogleGenerativeAIEmbeddings(model=\"models/text-embedding-004\")"
   ]
  },
  {
   "cell_type": "code",
   "execution_count": 36,
   "metadata": {},
   "outputs": [],
   "source": [
    "loader = JSONLoader(file_path=\"../data/logs.json\", jq_schema=\".[]\", text_content=False)\n",
    "documents = loader.load()\n",
    "db = Chroma.from_documents(documents, google_embeddings)"
   ]
  },
  {
   "cell_type": "code",
   "execution_count": 37,
   "metadata": {},
   "outputs": [],
   "source": [
    "retriever = db.as_retriever()"
   ]
  },
  {
   "cell_type": "code",
   "execution_count": 38,
   "metadata": {},
   "outputs": [],
   "source": [
    "log_tool = create_retriever_tool(\n",
    "    retriever,\n",
    "    \"logs_knowledge_base\",\n",
    "    \"Search and return information about logs\",\n",
    ")"
   ]
  },
  {
   "cell_type": "markdown",
   "metadata": {},
   "source": [
    "#### Create the agent"
   ]
  },
  {
   "cell_type": "code",
   "execution_count": 23,
   "metadata": {},
   "outputs": [],
   "source": [
    "memory = SqliteSaver.from_conn_string(\":memory:\")"
   ]
  },
  {
   "cell_type": "code",
   "execution_count": 17,
   "metadata": {},
   "outputs": [],
   "source": [
    "class AgentState(TypedDict):\n",
    "    messages: Annotated[list[AnyMessage], operator.add]"
   ]
  },
  {
   "cell_type": "code",
   "execution_count": 18,
   "metadata": {},
   "outputs": [],
   "source": [
    "class Agent:\n",
    "    def __init__(self, model, tools, checkpointer, system=\"\"):\n",
    "        self.system = system\n",
    "        graph=StateGraph(AgentState)\n",
    "        graph.add_node(\"llm\", self.call_model)\n",
    "        graph.add_node(\"action\", self.take_action)\n",
    "        graph.add_conditional_edges(\"llm\",\n",
    "                                    self.exists_action,\n",
    "                                    {True: \"action\", False: END})   \n",
    "        graph.add_edge(\"action\", \"llm\")\n",
    "        graph.set_entry_point(\"llm\")\n",
    "        self.graph=graph.compile(checkpointer=checkpointer)\n",
    "        self.tools = {t.name: t for t in tools}\n",
    "        self.model= model.bind_tools(tools)\n",
    "\n",
    "    def call_model(self, state: AgentState):\n",
    "        messages = state[\"messages\"]\n",
    "        if self.system:\n",
    "            messages = [SystemMessage(content=self.system)] + messages\n",
    "        message=self.model.invoke(messages)\n",
    "        return {'messages':[message]}\n",
    "    def exists_action(self, state: AgentState):\n",
    "        result=state[\"messages\"][-1]\n",
    "        return len(result.tool_calls) > 0\n",
    "    \n",
    "    def take_action(self, state: AgentState):\n",
    "        tool_calls=state[\"messages\"][-1].tool_calls\n",
    "        results=[]\n",
    "        for t in tool_calls:\n",
    "            print(f\"calling tool : {t}\")\n",
    "            result = self.tools[t['name']].invoke(t[\"args\"])\n",
    "            results.append(ToolMessage(tool_call_id=t['id'],name=t['name'], content=str(result)))\n",
    "        print(\"Back to the model\")\n",
    "        return {'messages':results}"
   ]
  },
  {
   "cell_type": "markdown",
   "metadata": {},
   "source": [
    "##### laod system prompt"
   ]
  },
  {
   "cell_type": "code",
   "execution_count": 39,
   "metadata": {},
   "outputs": [],
   "source": [
    "with open(\"../prompts/system_prompt.txt\",\"r\") as f:\n",
    "    system_message = f.read()\n",
    "\n",
    "tools = [log_tool]\n",
    "abot = Agent(model, tools, memory, system_message)"
   ]
  },
  {
   "cell_type": "code",
   "execution_count": 41,
   "metadata": {},
   "outputs": [],
   "source": [
    "user_message= \"Describe to me the overall health of the system\"\n",
    "messages = [HumanMessage(content=user_message)]"
   ]
  },
  {
   "cell_type": "code",
   "execution_count": 42,
   "metadata": {},
   "outputs": [
    {
     "name": "stdout",
     "output_type": "stream",
     "text": [
      "calling tool : {'name': 'logs_knowledge_base', 'args': {'query': 'system health'}, 'id': '007c03c1-70e4-4756-af38-5057b5690bd4'}\n",
      "Back to the model\n"
     ]
    }
   ],
   "source": [
    "result= abot.graph.invoke({\"messages\":messages },\n",
    "                     config = {\"configurable\":{\"thread_id\": \"1\"}})"
   ]
  },
  {
   "cell_type": "code",
   "execution_count": 43,
   "metadata": {},
   "outputs": [
    {
     "data": {
      "text/markdown": [
       "The system is showing some signs of strain. Recent logs indicate high CPU usage (85%) and memory usage (70%). Additionally, there were warnings logged about CPU temperature exceeding safe limits on web-02 and high memory usage on server web-01. While the system is currently operational, it's recommended to investigate these issues to prevent potential performance degradation or system instability. \n"
      ],
      "text/plain": [
       "<IPython.core.display.Markdown object>"
      ]
     },
     "metadata": {},
     "output_type": "display_data"
    }
   ],
   "source": [
    "analysis=result['messages'][-1].content\n",
    "display(Markdown(analysis))"
   ]
  },
  {
   "cell_type": "code",
   "execution_count": 44,
   "metadata": {},
   "outputs": [
    {
     "data": {
      "text/plain": [
       "{'messages': [HumanMessage(content='Show me all the log entries for user john_doe'),\n",
       "  AIMessage(content='', additional_kwargs={'function_call': {'name': 'logs_knowledge_base', 'arguments': '{\"query\": \"log entries for user john_doe\"}'}}, response_metadata={'prompt_feedback': {'block_reason': 0, 'safety_ratings': []}, 'finish_reason': 'STOP', 'safety_ratings': [{'category': 'HARM_CATEGORY_DANGEROUS_CONTENT', 'probability': 'NEGLIGIBLE', 'blocked': False}, {'category': 'HARM_CATEGORY_HATE_SPEECH', 'probability': 'NEGLIGIBLE', 'blocked': False}, {'category': 'HARM_CATEGORY_HARASSMENT', 'probability': 'NEGLIGIBLE', 'blocked': False}, {'category': 'HARM_CATEGORY_SEXUALLY_EXPLICIT', 'probability': 'NEGLIGIBLE', 'blocked': False}]}, id='run-de07b3c8-1c4d-4c3d-80f3-cea506bf5018-0', tool_calls=[{'name': 'logs_knowledge_base', 'args': {'query': 'log entries for user john_doe'}, 'id': '850a8f25-2ccd-48a7-a30a-4acb9e46c9c5'}], usage_metadata={'input_tokens': 476, 'output_tokens': 23, 'total_tokens': 499}),\n",
       "  ToolMessage(content='{\"timestamp\": \"2024-07-07T12:45:00Z\", \"level\": \"INFO\", \"event\": \"User Login\", \"details\": {\"user\": \"jane_smith\", \"ip\": \"192.168.1.15\", \"sessionID\": \"def456\", \"status\": \"Success\"}}\\n\\n{\"timestamp\": \"2024-07-07T12:34:56Z\", \"level\": \"INFO\", \"event\": \"User Login\", \"details\": {\"user\": \"john_doe\", \"ip\": \"192.168.1.10\", \"sessionID\": \"abc123\", \"status\": \"Success\"}}\\n\\n{\"timestamp\": \"2024-07-07T12:35:01Z\", \"level\": \"ERROR\", \"event\": \"File Access\", \"details\": {\"user\": \"john_doe\", \"file\": \"/restricted/financial_report.xlsx\", \"operation\": \"Read\", \"status\": \"Denied\", \"reason\": \"Permission Denied\"}}\\n\\n{\"timestamp\": \"2024-07-07T12:35:10Z\", \"level\": \"INFO\", \"event\": \"File Access\", \"details\": {\"user\": \"john_doe\", \"file\": \"/public/annual_report.pdf\", \"operation\": \"Read\", \"status\": \"Success\"}}', name='logs_knowledge_base', tool_call_id='850a8f25-2ccd-48a7-a30a-4acb9e46c9c5'),\n",
       "  AIMessage(content='The logs show that user john_doe successfully logged in at 12:34:56Z on July 7th, 2024, with session ID abc123 and IP address 192.168.1.10. They attempted to access the file /restricted/financial_report.xlsx at 12:35:01Z, but the access was denied due to permission restrictions. Finally, they successfully accessed the file /public/annual_report.pdf at 12:35:10Z. \\n', response_metadata={'prompt_feedback': {'block_reason': 0, 'safety_ratings': []}, 'finish_reason': 'STOP', 'safety_ratings': [{'category': 'HARM_CATEGORY_SEXUALLY_EXPLICIT', 'probability': 'NEGLIGIBLE', 'blocked': False}, {'category': 'HARM_CATEGORY_HATE_SPEECH', 'probability': 'NEGLIGIBLE', 'blocked': False}, {'category': 'HARM_CATEGORY_HARASSMENT', 'probability': 'NEGLIGIBLE', 'blocked': False}, {'category': 'HARM_CATEGORY_DANGEROUS_CONTENT', 'probability': 'NEGLIGIBLE', 'blocked': False}]}, id='run-95fa035f-3ec8-4712-a8cb-1f0d69c7b621-0', usage_metadata={'input_tokens': 852, 'output_tokens': 121, 'total_tokens': 973}),\n",
       "  HumanMessage(content='Describe to me the overall health of the system'),\n",
       "  AIMessage(content='', additional_kwargs={'function_call': {'name': 'logs_knowledge_base', 'arguments': '{\"query\": \"system health\"}'}}, response_metadata={'prompt_feedback': {'block_reason': 0, 'safety_ratings': []}, 'finish_reason': 'STOP', 'safety_ratings': [{'category': 'HARM_CATEGORY_DANGEROUS_CONTENT', 'probability': 'NEGLIGIBLE', 'blocked': False}, {'category': 'HARM_CATEGORY_HATE_SPEECH', 'probability': 'NEGLIGIBLE', 'blocked': False}, {'category': 'HARM_CATEGORY_HARASSMENT', 'probability': 'NEGLIGIBLE', 'blocked': False}, {'category': 'HARM_CATEGORY_SEXUALLY_EXPLICIT', 'probability': 'NEGLIGIBLE', 'blocked': False}]}, id='run-4457f203-d46a-46a7-8533-99ab1c5199e6-0', tool_calls=[{'name': 'logs_knowledge_base', 'args': {'query': 'system health'}, 'id': '007c03c1-70e4-4756-af38-5057b5690bd4'}], usage_metadata={'input_tokens': 986, 'output_tokens': 18, 'total_tokens': 1004}),\n",
       "  ToolMessage(content='{\"timestamp\": \"2024-07-10T10:50:00Z\", \"log_level\": \"WARNING\", \"message\": \"CPU temperature on \\'web-02\\' exceeds safe limits.\", \"context\": \"SystemMonitor\"}\\n\\n{\"timestamp\": \"2024-07-10T10:20:10Z\", \"log_level\": \"WARNING\", \"message\": \"High memory usage detected on server \\'web-01\\'.\", \"context\": \"SystemMonitor\"}\\n\\n{\"timestamp\": \"2024-07-07T12:36:15Z\", \"level\": \"WARNING\", \"event\": \"System Resource\", \"details\": {\"cpu_usage\": \"85%\", \"memory_usage\": \"70%\"}}\\n\\n{\"timestamp\": \"2024-07-07T12:36:15Z\", \"level\": \"WARNING\", \"event\": \"System Resource\", \"details\": {\"cpu_usage\": \"85%\", \"memory_usage\": \"70%\"}}', name='logs_knowledge_base', tool_call_id='007c03c1-70e4-4756-af38-5057b5690bd4'),\n",
       "  AIMessage(content=\"The system is showing some signs of strain. Recent logs indicate high CPU usage (85%) and memory usage (70%). Additionally, there were warnings logged about CPU temperature exceeding safe limits on web-02 and high memory usage on server web-01. While the system is currently operational, it's recommended to investigate these issues to prevent potential performance degradation or system instability. \\n\", response_metadata={'prompt_feedback': {'block_reason': 0, 'safety_ratings': []}, 'finish_reason': 'STOP', 'safety_ratings': [{'category': 'HARM_CATEGORY_SEXUALLY_EXPLICIT', 'probability': 'NEGLIGIBLE', 'blocked': False}, {'category': 'HARM_CATEGORY_HATE_SPEECH', 'probability': 'NEGLIGIBLE', 'blocked': False}, {'category': 'HARM_CATEGORY_HARASSMENT', 'probability': 'NEGLIGIBLE', 'blocked': False}, {'category': 'HARM_CATEGORY_DANGEROUS_CONTENT', 'probability': 'NEGLIGIBLE', 'blocked': False}]}, id='run-7d6a6c12-db2c-41c9-98b2-747e6c5d9d04-0', usage_metadata={'input_tokens': 1273, 'output_tokens': 78, 'total_tokens': 1351})]}"
      ]
     },
     "execution_count": 44,
     "metadata": {},
     "output_type": "execute_result"
    }
   ],
   "source": [
    "result"
   ]
  },
  {
   "cell_type": "code",
   "execution_count": null,
   "metadata": {},
   "outputs": [],
   "source": []
  },
  {
   "cell_type": "code",
   "execution_count": null,
   "metadata": {},
   "outputs": [],
   "source": []
  },
  {
   "cell_type": "code",
   "execution_count": null,
   "metadata": {},
   "outputs": [],
   "source": []
  },
  {
   "cell_type": "code",
   "execution_count": null,
   "metadata": {},
   "outputs": [],
   "source": []
  },
  {
   "cell_type": "code",
   "execution_count": null,
   "metadata": {},
   "outputs": [],
   "source": []
  },
  {
   "cell_type": "code",
   "execution_count": null,
   "metadata": {},
   "outputs": [],
   "source": []
  }
 ],
 "metadata": {
  "kernelspec": {
   "display_name": "venv",
   "language": "python",
   "name": "python3"
  },
  "language_info": {
   "codemirror_mode": {
    "name": "ipython",
    "version": 3
   },
   "file_extension": ".py",
   "mimetype": "text/x-python",
   "name": "python",
   "nbconvert_exporter": "python",
   "pygments_lexer": "ipython3",
   "version": "3.10.6"
  }
 },
 "nbformat": 4,
 "nbformat_minor": 2
}
